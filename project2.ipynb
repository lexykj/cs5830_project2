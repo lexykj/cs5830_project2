{
 "cells": [
  {
   "cell_type": "markdown",
   "id": "cf5c3c11",
   "metadata": {},
   "source": [
    "# Title"
   ]
  },
  {
   "cell_type": "code",
   "execution_count": null,
   "id": "27199121",
   "metadata": {},
   "outputs": [],
   "source": [
    "import pandas as pd\n",
    "import seaborn as sns\n",
    "import matplotlib.pyplot as plt\n",
    "import scipy\n",
    "import numpy as np\n",
    "from mpl_toolkits.mplot3d import Axes3D\n",
    "# if you do not have folium installed, pick one of the two commands below to install it\n",
    "\n",
    "# !pip install folium\n",
    "#!conda install -c conda-forge folium=0.5.0 --yes\n",
    "import folium\n",
    "\n",
    "# !pip install pyproj\n",
    "import pyproj\n",
    "\n",
    "%matplotlib inline\n",
    "\n",
    "crimeHousing = pd.read_csv(\"crime-housing-austin-2015.csv\")"
   ]
  },
  {
   "cell_type": "markdown",
   "id": "59e4aae5",
   "metadata": {},
   "source": [
    "## Analysis 1"
   ]
  },
  {
   "cell_type": "code",
   "execution_count": null,
   "id": "16c20fd5",
   "metadata": {},
   "outputs": [],
   "source": [
    "print('There are',len(crimeHousing['Highest_Offense_Desc'].unique()), 'different types of crime in Austin.')\n",
    "\n",
    "crimeHousing2 = crimeHousing.copy()\n",
    "crimeHousing2 = crimeHousing2.dropna()\n",
    "crimeHousing2['Highest_Offense_Desc'].value_counts().head()"
   ]
  },
  {
   "cell_type": "code",
   "execution_count": null,
   "id": "46a8a035",
   "metadata": {
    "scrolled": false
   },
   "outputs": [],
   "source": [
    "crimeHousing2['Highest_Offense_Desc'].value_counts().head(20).plot(kind='bar')\n",
    "\n",
    "plt.xlabel(\"Highest_Offense_Desc\")\n",
    "plt.ylabel(\"Amount of crimes\")\n",
    "plt.title('Top 20 committed crimes')"
   ]
  },
  {
   "cell_type": "markdown",
   "id": "707238c6",
   "metadata": {},
   "source": [
    "## Analysis 2"
   ]
  },
  {
   "cell_type": "code",
   "execution_count": null,
   "id": "6eee2778",
   "metadata": {
    "scrolled": true
   },
   "outputs": [],
   "source": [
    "top20 = crimeHousing2['Highest_Offense_Desc'].value_counts().head(20).index\n",
    "def desc_map(s):\n",
    "    if s in top20: \n",
    "        return s \n",
    "    else: \n",
    "        return 'misc'\n",
    "    \n",
    "crimeHousing2['Description_Short']=crimeHousing['Highest_Offense_Desc'].apply(lambda x: desc_map(x))\n",
    "\n",
    "fig1, ax1 = plt.subplots(figsize=(15, 8))\n",
    "labels = crimeHousing2['Description_Short'].value_counts().index\n",
    "ax1.pie(crimeHousing2['Description_Short'].value_counts().sort_values(ascending=False), labels=labels, autopct='%1.1f%%', textprops={'fontsize': 14})\n",
    "ax1.axis('equal')\n",
    "\n",
    "plt.show()"
   ]
  },
  {
   "cell_type": "markdown",
   "id": "2060b1ff",
   "metadata": {},
   "source": [
    "## Analysis 3"
   ]
  },
  {
   "cell_type": "code",
   "execution_count": null,
   "id": "f783716b",
   "metadata": {},
   "outputs": [],
   "source": [
    "#top 5 zip codes \n",
    "crimeHousing2.fillna(0, inplace=True)\n",
    "crimeHousing2['Zip_Code_Crime'] = crimeHousing2['Zip_Code_Crime'].apply(lambda x: str(x)[:5])\n",
    "Top5 = crimeHousing2[crimeHousing2['Zip_Code_Crime']!='0.0']['Zip_Code_Crime'].value_counts().sort_values(ascending=False)\n",
    "\n",
    "Top5.plot(kind='bar')\n",
    "plt.xlabel(\"Zip Codes\")\n",
    "plt.ylabel(\"Amount of crimes\")\n",
    "\n",
    "plt.title('Zip Codes with the highest crime rate')"
   ]
  },
  {
   "cell_type": "markdown",
   "id": "f392d708",
   "metadata": {},
   "source": [
    "## Analysis 4"
   ]
  },
  {
   "cell_type": "code",
   "execution_count": null,
   "id": "415d28d9",
   "metadata": {},
   "outputs": [],
   "source": [
    "# Austin latitude and longitude values\n",
    "latitude = 30.26\n",
    "longitude = -97.73\n",
    "\n",
    "# create map and display it\n",
    "austin_map = folium.Map(location=[latitude, longitude], zoom_start=12)\n",
    "\n",
    "# display the map of Austin\n",
    "austin_map\n",
    "\n",
    "import warnings\n",
    "warnings.filterwarnings(\"ignore\")\n",
    "\n",
    "# Changing the coordinate format from NAD83 to UTM\n",
    "fips2401 = pyproj.Proj(\"+proj=lcc +lat_1=30.11666666666667 +lat_2=31.88333333333333 +lat_0=29.66666666666667 +lon_0=-100.3333333333333 +x_0=700000 +y_0=3000000 +ellps=GRS80 +datum=NAD83 +to_meter=0.3048006096012192 +no_defs\")\n",
    "wgs84 = pyproj.Proj(\"+init=EPSG:4326\")\n",
    "\n",
    "crimeHousing[['lon', 'lat']] = pd.DataFrame(pyproj.transform(fips2401, wgs84, crimeHousing.X_Coordinate.to_numpy(), crimeHousing.Y_Coordinate.to_numpy())).T\n",
    "\n",
    "# get a random 500 crimes in the crimeHousing dataframe\n",
    "crimeHousing = crimeHousing.dropna()\n",
    "limit = 500\n",
    "sampleCrime = crimeHousing.sample(frac = .05)\n",
    "\n",
    "sampleCrime.Y_Coordinate[:10]\n",
    "\n",
    "# instantiate a feature group for the incidents in the dataframe\n",
    "incidents = folium.map.FeatureGroup()\n",
    "\n",
    "# loop through the 500 crimes and add each to the incidents feature group\n",
    "for lat, lng, in zip(sampleCrime.lat, sampleCrime.lon):\n",
    "    incidents.add_child(\n",
    "        folium.features.CircleMarker(\n",
    "            [lat, lng],\n",
    "            radius=.2, # define how big you want the circle markers to be\n",
    "            color='blue',\n",
    "            fill=True,\n",
    "#             fill_color='blue',\n",
    "#             fill_opacity=0.6\n",
    "        )\n",
    "    )\n",
    "\n",
    "# add incidents to map\n",
    "austin_map.add_child(incidents)"
   ]
  },
  {
   "cell_type": "markdown",
   "id": "adffe873",
   "metadata": {},
   "source": [
    "## Analysis 5"
   ]
  },
  {
   "cell_type": "code",
   "execution_count": null,
   "id": "8b79177b",
   "metadata": {},
   "outputs": [],
   "source": []
  },
  {
   "cell_type": "markdown",
   "id": "1e9822b1",
   "metadata": {},
   "source": [
    "## Analysis 6"
   ]
  },
  {
   "cell_type": "code",
   "execution_count": null,
   "id": "a3a77ff4",
   "metadata": {},
   "outputs": [],
   "source": []
  },
  {
   "cell_type": "markdown",
   "id": "c22f31fa",
   "metadata": {},
   "source": [
    "## Analysis 7"
   ]
  },
  {
   "cell_type": "code",
   "execution_count": null,
   "id": "c9ca041d",
   "metadata": {},
   "outputs": [],
   "source": []
  },
  {
   "cell_type": "markdown",
   "id": "181099e4",
   "metadata": {},
   "source": [
    "## Analysis 8"
   ]
  },
  {
   "cell_type": "code",
   "execution_count": null,
   "id": "2a8c9b30",
   "metadata": {},
   "outputs": [],
   "source": []
  }
 ],
 "metadata": {
  "kernelspec": {
   "display_name": "Python 3 (ipykernel)",
   "language": "python",
   "name": "python3"
  },
  "language_info": {
   "codemirror_mode": {
    "name": "ipython",
    "version": 3
   },
   "file_extension": ".py",
   "mimetype": "text/x-python",
   "name": "python",
   "nbconvert_exporter": "python",
   "pygments_lexer": "ipython3",
   "version": "3.9.5"
  }
 },
 "nbformat": 4,
 "nbformat_minor": 5
}
