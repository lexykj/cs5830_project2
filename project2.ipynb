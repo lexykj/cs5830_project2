{
 "cells": [
  {
   "cell_type": "markdown",
   "id": "cf5c3c11",
   "metadata": {},
   "source": [
    "# Title"
   ]
  },
  {
   "cell_type": "code",
   "execution_count": null,
   "id": "27199121",
   "metadata": {},
   "outputs": [],
   "source": [
    "import pandas as pd\n",
    "import seaborn as sns\n",
    "import matplotlib.pyplot as plt\n",
    "import scipy\n",
    "import numpy as np\n",
    "from mpl_toolkits.mplot3d import Axes3D\n",
    "\n",
    "# !pip install folium\n",
    "import folium\n",
    "\n",
    "# !pip install pyproj\n",
    "import pyproj\n",
    "\n",
    "%matplotlib inline\n",
    "\n",
    "crimeHousing = pd.read_csv(\"crime-housing-austin-2015.csv\")"
   ]
  },
  {
   "cell_type": "markdown",
   "id": "19ae451e",
   "metadata": {},
   "source": [
    "## Analysis 1 - Most Common Crimes (Bar Plot)"
   ]
  },
  {
   "cell_type": "code",
   "execution_count": null,
   "id": "1e4701d6",
   "metadata": {},
   "outputs": [],
   "source": [
    "print('There are',len(crimeHousing['Highest_Offense_Desc'].unique()), 'different types of crime in Austin.')\n",
    "\n",
    "crimeHousing2 = crimeHousing.copy()\n",
    "crimeHousing2 = crimeHousing2.dropna()\n",
    "crimeHousing2['Highest_Offense_Desc'].value_counts().head()"
   ]
  },
  {
   "cell_type": "code",
   "execution_count": null,
   "id": "11b2b802",
   "metadata": {
    "scrolled": false
   },
   "outputs": [],
   "source": [
    "crimeHousing2['Highest_Offense_Desc'].value_counts().head(20).plot(kind='bar')\n",
    "\n",
    "plt.xlabel(\"Highest_Offense_Desc\")\n",
    "plt.ylabel(\"Amount of crimes\")\n",
    "plt.title('Top 20 committed crimes')"
   ]
  },
  {
   "cell_type": "markdown",
   "id": "58d2219d",
   "metadata": {},
   "source": [
    "## Analysis 2 - Crime Type in Proportion to Crimes in the Database (Pie Chart)"
   ]
  },
  {
   "cell_type": "code",
   "execution_count": null,
   "id": "e1ede477",
   "metadata": {
    "scrolled": false
   },
   "outputs": [],
   "source": [
    "top20 = crimeHousing2['Highest_Offense_Desc'].value_counts().head(20).index\n",
    "def desc_map(s):\n",
    "    if s in top20: \n",
    "        return s \n",
    "    else: \n",
    "        return 'misc'\n",
    "    \n",
    "crimeHousing2['Description_Short']=crimeHousing['Highest_Offense_Desc'].apply(lambda x: desc_map(x))\n",
    "\n",
    "fig1, ax1 = plt.subplots(figsize=(15, 8))\n",
    "labels = crimeHousing2['Description_Short'].value_counts().index\n",
    "ax1.pie(crimeHousing2['Description_Short'].value_counts().sort_values(ascending=False), labels=labels, autopct='%1.1f%%', textprops={'fontsize': 14})\n",
    "ax1.axis('equal')\n",
    "\n",
    "plt.show()"
   ]
  },
  {
   "cell_type": "markdown",
   "id": "75bc15f0",
   "metadata": {},
   "source": [
    "## Analysis 3 - Histogram of Number of Crimes Per Zip Code (Bar Chart)"
   ]
  },
  {
   "cell_type": "code",
   "execution_count": null,
   "id": "9d9675ed",
   "metadata": {},
   "outputs": [],
   "source": [
    "# zip codes with the most crime\n",
    "crimeHousing2.fillna(0, inplace=True)\n",
    "crimeHousing2['Zip_Code_Crime'] = crimeHousing2['Zip_Code_Crime'].apply(lambda x: str(x)[:5])\n",
    "Top5 = crimeHousing2[crimeHousing2['Zip_Code_Crime']!='0.0']['Zip_Code_Crime'].value_counts().sort_values(ascending=False)\n",
    "\n",
    "Top5.plot(kind='bar')\n",
    "plt.xlabel(\"Zip Codes\")\n",
    "plt.ylabel(\"Amount of crimes\")\n",
    "\n",
    "plt.title('Zip Codes with the highest crime rate')"
   ]
  },
  {
   "cell_type": "markdown",
   "id": "bd61aad6",
   "metadata": {},
   "source": [
    "## Analysis 4 - Map of Austin with Dots at Crime Locations, random 10% sample (Scatterplot)"
   ]
  },
  {
   "cell_type": "code",
   "execution_count": null,
   "id": "38f34106",
   "metadata": {},
   "outputs": [],
   "source": [
    "# Austin latitude and longitude values\n",
    "latitude = 30.26\n",
    "longitude = -97.73\n",
    "\n",
    "# create map and display it\n",
    "austin_map = folium.Map(location=[latitude, longitude], zoom_start=11.5)\n",
    "\n",
    "# display the map of Austin\n",
    "austin_map\n",
    "\n",
    "import warnings\n",
    "warnings.filterwarnings(\"ignore\")\n",
    "\n",
    "# Changing the coordinate format from NAD83 to UTM\n",
    "fips2401 = pyproj.Proj(\"+proj=lcc +lat_1=30.11666666666667 +lat_2=31.88333333333333 +lat_0=29.66666666666667 +lon_0=-100.3333333333333 +x_0=700000 +y_0=3000000 +ellps=GRS80 +datum=NAD83 +to_meter=0.3048006096012192 +no_defs\")\n",
    "wgs84 = pyproj.Proj(\"+init=EPSG:4326\")\n",
    "\n",
    "crimeHousing[['lon', 'lat']] = pd.DataFrame(pyproj.transform(fips2401, wgs84, crimeHousing.X_Coordinate.to_numpy(), crimeHousing.Y_Coordinate.to_numpy())).T\n",
    "\n",
    "# get a random 10% crimes in the crimeHousing dataframe\n",
    "crimeHousing = crimeHousing.dropna()\n",
    "sampleCrime = crimeHousing.sample(frac = .1)\n",
    "\n",
    "# instantiate a feature group for the incidents in the dataframe\n",
    "incidents = folium.map.FeatureGroup()"
   ]
  },
  {
   "cell_type": "code",
   "execution_count": null,
   "id": "95a65e6a",
   "metadata": {},
   "outputs": [],
   "source": [
    "# loop through the sample of crimes and add each to the incidents feature group\n",
    "for lat, lng, label in zip(sampleCrime.lat, sampleCrime.lon, sampleCrime.Highest_Offense_Desc):\n",
    "        folium.features.CircleMarker(\n",
    "            [lat, lng],\n",
    "            radius=.5, # define how big you want the circle markers to be\n",
    "            color='blue',\n",
    "            fill=True,\n",
    "            popup = label,\n",
    "#             fill_color='blue',\n",
    "#             fill_opacity=0.6\n",
    "        ).add_to(austin_map)\n",
    "\n",
    "\n",
    "# add pop-up text to each marker on the map \n",
    "\n",
    "# add incidents to map\n",
    "austin_map.add_child(incidents)"
   ]
  },
  {
   "cell_type": "markdown",
   "id": "98a738dc",
   "metadata": {},
   "source": [
    "## Analysis 5 - Cluster Map of Austin Using the Same Sample of Crime Locations"
   ]
  },
  {
   "cell_type": "code",
   "execution_count": null,
   "id": "18306a08",
   "metadata": {},
   "outputs": [],
   "source": [
    "from folium import plugins\n",
    "\n",
    "# let's start again with a clean copy of the map of Austin\n",
    "austin_map = folium.Map(location = [latitude, longitude], zoom_start = 11.5)\n",
    "\n",
    "# instantiate a mark cluster object for the incidents in the dataframe\n",
    "incidents = plugins.MarkerCluster().add_to(austin_map)\n",
    "\n",
    "# loop through the dataframe and add each data point to the mark cluster\n",
    "for lat, lng, label, in zip(sampleCrime.lat, sampleCrime.lon, sampleCrime.Highest_Offense_Desc):\n",
    "    folium.Marker(\n",
    "        location=[lat, lng],\n",
    "        icon=None,\n",
    "        popup=label,\n",
    "    ).add_to(incidents)\n",
    "\n",
    "# display map\n",
    "austin_map"
   ]
  },
  {
   "cell_type": "markdown",
   "id": "b8552f4f",
   "metadata": {},
   "source": [
    "## Analysis 6"
   ]
  },
  {
   "cell_type": "code",
   "execution_count": null,
   "id": "5b3b81c6",
   "metadata": {},
   "outputs": [],
   "source": [
    "crime = pd.read_csv('crime-housing-austin-2015.csv')\n",
    "crime_df = pd.read_table('crime-housing-austin-2015.csv', delimiter=',')\n",
    "crime_df2 = pd.DataFrame(crime_df, columns=[\"Highest_NIBRS_UCR_Offense_Description\", \"Clearance_Status\", \"Medianhouseholdincome\"])\n",
    "crime_df2[\"Medianhouseholdincome\"] = crime_df2[\"Medianhouseholdincome\"].str.replace('$', '', regex=True)\n",
    "crime_df3 = pd.DataFrame(crime_df2, columns=[\"Clearance_Status\", \"Medianhouseholdincome\"])\n",
    "crime_df3 = crime_df3.groupby(\"Medianhouseholdincome\")\n",
    "crime_df4 = crime_df3[\"Clearance_Status\"].value_counts().reset_index(name=\"Count\")\n",
    "values = crime_df4.values\n",
    "\n",
    "crime_df5 = pd.DataFrame(values, columns=[\"Medianhouseholdincome\", \"Clearance_Status\", \"Count\"])\n",
    "crime_df6 = crime_df5.pivot(index=\"Medianhouseholdincome\", columns=\"Clearance_Status\", values=\"Count\")\n",
    "crime_df7 = crime_df6.rename(columns={\"C\": \"C=Cleared By Arrest\", \"O\": \"O=Cleared By Exception\", \"N\": \"N=Not Cleared\"})\n",
    "\n",
    "display(crime_df7.plot().set_title(\"Clearance Status Volume By Income Level\"))\n",
    "crime_df8 = crime_df6.reset_index()\n",
    "crime_df8[\"N\"] = pd.to_numeric(crime_df8[\"N\"])\n",
    "crime_df8[\"C\"] = pd.to_numeric(crime_df8[\"C\"])\n",
    "crime_df8[\"O\"] = pd.to_numeric(crime_df8[\"O\"])\n",
    "crime_df8[\"Medianhouseholdincome\"] = pd.to_numeric(crime_df8[\"Medianhouseholdincome\"])\n",
    "values2 = [crime_df8[\"N\"].corr(crime_df8[\"Medianhouseholdincome\"]), crime_df8[\"O\"].corr(crime_df8[\"Medianhouseholdincome\"]), crime_df8[\"C\"].corr(crime_df8[\"Medianhouseholdincome\"])]\n",
    "crime_df9 = pd.DataFrame({\"N_P\": [crime_df8[\"N\"].corr(crime_df8[\"Medianhouseholdincome\"])], \"O_P\": [crime_df8[\"O\"].corr(crime_df8[\"Medianhouseholdincome\"])], \"C_P\": [crime_df8[\"C\"].corr(crime_df8[\"Medianhouseholdincome\"])]}).reset_index()\n",
    "display(crime_df9.plot.bar().set_title(\"Pearson Coefficients For N, O, and C Clearance Status Values Correlated With Median Household Income\"))"
   ]
  },
  {
   "cell_type": "markdown",
   "id": "72fd7ef7",
   "metadata": {},
   "source": [
    "## Analysis 7"
   ]
  },
  {
   "cell_type": "code",
   "execution_count": null,
   "id": "b9371635",
   "metadata": {},
   "outputs": [],
   "source": []
  },
  {
   "cell_type": "markdown",
   "id": "a07d0b8f",
   "metadata": {},
   "source": [
    "## Analysis 8"
   ]
  },
  {
   "cell_type": "code",
   "execution_count": null,
   "id": "3712f39c",
   "metadata": {},
   "outputs": [],
   "source": []
  }
 ],
 "metadata": {
  "kernelspec": {
   "display_name": "Python 3 (ipykernel)",
   "language": "python",
   "name": "python3"
  },
  "language_info": {
   "codemirror_mode": {
    "name": "ipython",
    "version": 3
   },
   "file_extension": ".py",
   "mimetype": "text/x-python",
   "name": "python",
   "nbconvert_exporter": "python",
   "pygments_lexer": "ipython3",
   "version": "3.9.5"
  },
  "vscode": {
   "interpreter": {
    "hash": "f60689b22ae6e1b944289755a0fe4c3004f24c2fd9c477320af185849c96de69"
   }
  }
 },
 "nbformat": 4,
 "nbformat_minor": 5
}
