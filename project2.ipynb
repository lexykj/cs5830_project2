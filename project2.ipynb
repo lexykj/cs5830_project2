{
 "cells": [
  {
   "cell_type": "markdown",
   "id": "cf5c3c11",
   "metadata": {},
   "source": [
    "# Title"
   ]
  },
  {
   "cell_type": "code",
   "execution_count": null,
   "id": "27199121",
   "metadata": {},
   "outputs": [],
   "source": [
    "import pandas as pd\n",
    "import seaborn as sns\n",
    "import matplotlib.pyplot as plt\n",
    "import scipy\n",
    "import numpy as np\n",
    "from mpl_toolkits.mplot3d import Axes3D\n",
    "# if you do not have folium installed, pick one of the two commands below to install it\n",
    "\n",
    "# !pip install folium\n",
    "#!conda install -c conda-forge folium=0.5.0 --yes\n",
    "import folium\n",
    "\n",
    "%matplotlib inline\n",
    "\n",
    "crimeHousing = pd.read_csv(\"crime-housing-austin-2015.csv\")"
   ]
  },
  {
   "cell_type": "markdown",
   "id": "ca2e7240",
   "metadata": {},
   "source": [
    "## Analysis 1"
   ]
  },
  {
   "cell_type": "code",
   "execution_count": null,
   "id": "536cb9c5",
   "metadata": {},
   "outputs": [],
   "source": []
  },
  {
   "cell_type": "markdown",
   "id": "62d64b3c",
   "metadata": {},
   "source": [
    "## Analysis 2"
   ]
  },
  {
   "cell_type": "code",
   "execution_count": null,
   "id": "09669481",
   "metadata": {},
   "outputs": [],
   "source": []
  },
  {
   "cell_type": "markdown",
   "id": "bd823661",
   "metadata": {},
   "source": [
    "## Analysis 3"
   ]
  },
  {
   "cell_type": "code",
   "execution_count": null,
   "id": "ee16f023",
   "metadata": {},
   "outputs": [],
   "source": []
  },
  {
   "cell_type": "markdown",
   "id": "286471fa",
   "metadata": {},
   "source": [
    "## Analysis 4"
   ]
  },
  {
   "cell_type": "code",
   "execution_count": null,
   "id": "2fb1e2f0",
   "metadata": {},
   "outputs": [],
   "source": []
  },
  {
   "cell_type": "markdown",
   "id": "4a34af5a",
   "metadata": {},
   "source": [
    "## Analysis 5"
   ]
  },
  {
   "cell_type": "code",
   "execution_count": null,
   "id": "be18c617",
   "metadata": {},
   "outputs": [],
   "source": []
  },
  {
   "cell_type": "markdown",
   "id": "a9b46790",
   "metadata": {},
   "source": [
    "## Analysis 6"
   ]
  },
  {
   "cell_type": "code",
   "execution_count": null,
   "id": "71e2d4a2",
   "metadata": {},
   "outputs": [],
   "source": []
  },
  {
   "cell_type": "markdown",
   "id": "2aaeb86f",
   "metadata": {},
   "source": [
    "## Analysis 7"
   ]
  },
  {
   "cell_type": "code",
   "execution_count": null,
   "id": "0a9bc8ac",
   "metadata": {},
   "outputs": [],
   "source": []
  },
  {
   "cell_type": "markdown",
   "id": "16f3b8c0",
   "metadata": {},
   "source": [
    "## Analysis 8"
   ]
  },
  {
   "cell_type": "code",
   "execution_count": null,
   "id": "00738482",
   "metadata": {},
   "outputs": [],
   "source": []
  }
 ],
 "metadata": {
  "kernelspec": {
   "display_name": "Python 3 (ipykernel)",
   "language": "python",
   "name": "python3"
  },
  "language_info": {
   "codemirror_mode": {
    "name": "ipython",
    "version": 3
   },
   "file_extension": ".py",
   "mimetype": "text/x-python",
   "name": "python",
   "nbconvert_exporter": "python",
   "pygments_lexer": "ipython3",
   "version": "3.9.5"
  }
 },
 "nbformat": 4,
 "nbformat_minor": 5
}
